{
 "cells": [
  {
   "cell_type": "markdown",
   "id": "dff4ba4d",
   "metadata": {},
   "source": [
    "# Applied Data Science\n",
    "\n",
    "## Projekt Gruppe 6 \n",
    "\n",
    "Gruppenmitglieder: Reto Alexander Nüesch Erismann, Michelle Daniela Wehrli, Rebecca Sarah Baumann\n"
   ]
  },
  {
   "cell_type": "markdown",
   "id": "ab12a19a",
   "metadata": {},
   "source": [
    "## Aufgabe 1.1\n",
    "\n",
    "Datenbezug über API-Schnittstelle von Kaggle, um das Modell zu trainieren, vaidieren und um es zu testen\n"
   ]
  },
  {
   "cell_type": "code",
   "execution_count": null,
   "id": "8865e13d",
   "metadata": {},
   "outputs": [],
   "source": [
    "# !pip install kaggle"
   ]
  },
  {
   "cell_type": "code",
   "execution_count": null,
   "id": "3c6601e5",
   "metadata": {},
   "outputs": [],
   "source": [
    "# !pip install opendatasets"
   ]
  },
  {
   "cell_type": "markdown",
   "id": "c463d0ed",
   "metadata": {},
   "source": [
    "#### Kommentar: Wir haben manuel den Kaggle API-Token aus dem User-Account ins Working Directory des Jupyter-Notebooks heruntergeladen."
   ]
  },
  {
   "cell_type": "code",
   "execution_count": null,
   "id": "7664e796",
   "metadata": {},
   "outputs": [],
   "source": [
    "from kaggle.api.kaggle_api_extended import KaggleApi\n",
    "api = KaggleApi ()\n",
    "api.authenticate ()\n",
    "\n",
    "import opendatasets as od\n",
    "od.download(\"https://www.kaggle.com/datasets/sshikamaru/fruit-recognition\")\n",
    "\n",
    "# od.download(\"https://www.kaggle.com/datasets/sshikamaru/fruit-recognition\", force=True) ... falls die Bilder noch einmal heruntergeladen werden sollten"
   ]
  },
  {
   "cell_type": "markdown",
   "id": "de081d76",
   "metadata": {},
   "source": [
    "## Aufgabe 1.2\n",
    "\n",
    "Bilder zur Überprüfung des Models über Web Scraping beziehen.\n",
    "Inspirierende Quelle: https://github.com/Emmanuel96/scrape-helmets-images-from-google/blob/main/scrape_helmet_images.py"
   ]
  },
  {
   "cell_type": "code",
   "execution_count": 2,
   "id": "5225e193",
   "metadata": {},
   "outputs": [
    {
     "name": "stderr",
     "output_type": "stream",
     "text": [
      "C:\\Users\\User\\AppData\\Local\\Temp/ipykernel_23716/3040065594.py:15: DeprecationWarning: executable_path has been deprecated, please pass in a Service object\n",
      "  driver = webdriver.Chrome(DRIVER_PATH)\n"
     ]
    },
    {
     "name": "stdout",
     "output_type": "stream",
     "text": [
      "scroll done\n",
      "100\n"
     ]
    },
    {
     "name": "stderr",
     "output_type": "stream",
     "text": [
      "C:\\Users\\User\\AppData\\Local\\Temp/ipykernel_23716/3040065594.py:27: DeprecationWarning: find_elements_by_class_name is deprecated. Please use find_elements(by=By.CLASS_NAME, value=name) instead\n",
      "  image_elements = driver.find_elements_by_class_name('rg_i')\n"
     ]
    },
    {
     "name": "stdout",
     "output_type": "stream",
     "text": [
      "https://encrypted-tbn0.gstatic.com/images?q=tbn:ANd9GcTIbW2SyS9qdpwyOdntZ6yS-Qi-K1JVbMSDlQ&usqp=CAU\n",
      "https://encrypted-tbn0.gstatic.com/images?q=tbn:ANd9GcQYrY0AogFmcOt_SfHLaQeiK-WApkadosyHUA&usqp=CAU\n",
      "https://encrypted-tbn0.gstatic.com/images?q=tbn:ANd9GcREw4s_05KWcHfuM_YKbt8rJkii0VO-2hHgjA&usqp=CAU\n",
      "https://encrypted-tbn0.gstatic.com/images?q=tbn:ANd9GcS_n11axGtCaCKrBWOfpqdX-WySrxoG8y4Pig&usqp=CAU\n",
      "https://encrypted-tbn0.gstatic.com/images?q=tbn:ANd9GcTwrhZ6iIwuYgJiJs9Q0ePd6rpZXKRTlYNDIA&usqp=CAU\n",
      "https://encrypted-tbn0.gstatic.com/images?q=tbn:ANd9GcRE3uADXNzNaVhKSztfMCSwqOjjWFJgvVyW4A&usqp=CAU\n",
      "https://encrypted-tbn0.gstatic.com/images?q=tbn:ANd9GcTgcwESw87QLkM2CfxaNDEpcl0Os5veQ19Bkw&usqp=CAU\n",
      "https://encrypted-tbn0.gstatic.com/images?q=tbn:ANd9GcTN4PbdTNEGFn2wN0ow-OjUgyyosN9x-Grh7w&usqp=CAU\n",
      "https://encrypted-tbn0.gstatic.com/images?q=tbn:ANd9GcRFkVsfNaAigaag8zM2cCdrqN4dqrzGHuln8A&usqp=CAU\n",
      "https://encrypted-tbn0.gstatic.com/images?q=tbn:ANd9GcTgFHKfaISUWVLcI8HEnGQJ4mhKMOMfAT6ebw&usqp=CAU\n",
      "https://encrypted-tbn0.gstatic.com/images?q=tbn:ANd9GcR90DaTOri3CCJxaNZ2mKrD_rKJL1LUNb5O9Q&usqp=CAU\n",
      "https://encrypted-tbn0.gstatic.com/images?q=tbn:ANd9GcQXZekvTX2apbdEfRqPpeY9xfkgLqwh4vizRQ&usqp=CAU\n",
      "https://encrypted-tbn0.gstatic.com/images?q=tbn:ANd9GcQWAilI2opJpWZNVFIqz0ADxbPY5-FBSscbMQ&usqp=CAU\n",
      "https://encrypted-tbn0.gstatic.com/images?q=tbn:ANd9GcQ46udGgnDvsHOBNlTeS7NZSQ1WfG-WAbdF7A&usqp=CAU\n",
      "https://encrypted-tbn0.gstatic.com/images?q=tbn:ANd9GcRSoSGyS-FS6JNP1MljoZ0LGmoyqnFjxbku2w&usqp=CAU\n",
      "https://encrypted-tbn0.gstatic.com/images?q=tbn:ANd9GcRfilRZg45tzGLSSC2aBR3skyuHxjJIbhcG8Q&usqp=CAU\n",
      "https://encrypted-tbn0.gstatic.com/images?q=tbn:ANd9GcRLz_wT1jRfE3OJE-p17AKjUcrW2YdswjfYTw&usqp=CAU\n",
      "https://encrypted-tbn0.gstatic.com/images?q=tbn:ANd9GcTyszYbRy4IHy6paCEop7ml7qzeCHuUPOnr_A&usqp=CAU\n",
      "https://encrypted-tbn0.gstatic.com/images?q=tbn:ANd9GcSxkpqZOy-qVCOreK-80m0UtFqlaqg88zOv-Q&usqp=CAU\n",
      "https://encrypted-tbn0.gstatic.com/images?q=tbn:ANd9GcRacYGKpU-EnaR0BT0ZJv1EQcsGiGJjDNR2Wg&usqp=CAU\n",
      "https://encrypted-tbn0.gstatic.com/images?q=tbn:ANd9GcRJR21R1XhwL7zNOdbj84FhZkHB0mvtUVsZMg&usqp=CAU\n",
      "https://encrypted-tbn0.gstatic.com/images?q=tbn:ANd9GcShluzioakO5_O8VTfwz8k2qkaUMCVgMvRRsw&usqp=CAU\n",
      "https://encrypted-tbn0.gstatic.com/images?q=tbn:ANd9GcTYIld4FHtx5FtOrSxZexRUC-3rJcv597VqEg&usqp=CAU\n",
      "https://encrypted-tbn0.gstatic.com/images?q=tbn:ANd9GcQQv6Ar1g126JTiWHs57hoInbq1mUUYRswkPA&usqp=CAU\n",
      "https://encrypted-tbn0.gstatic.com/images?q=tbn:ANd9GcRmm-4QjcGwkRGc8z1UR4eXG-DaOfDrHBRBdw&usqp=CAU\n",
      "https://encrypted-tbn0.gstatic.com/images?q=tbn:ANd9GcTo5_ansVvgFWXqkmkHGEKTEGtgocfDCRPPNA&usqp=CAU\n",
      "https://encrypted-tbn0.gstatic.com/images?q=tbn:ANd9GcTGFimR8fudJis_VToMkvP8kgPJ9ZsoGbSAxg&usqp=CAU\n",
      "https://encrypted-tbn0.gstatic.com/images?q=tbn:ANd9GcQIMkgj1dwT1a25SAaKLptfMLxLB1pMiu0cdg&usqp=CAU\n",
      "https://encrypted-tbn0.gstatic.com/images?q=tbn:ANd9GcT0tnDKJjj4bgU_qTpv3bXkRoA6BaG_8sSq1Q&usqp=CAU\n",
      "https://encrypted-tbn0.gstatic.com/images?q=tbn:ANd9GcQ4kJdcTHBhb6hVrhJVhjgQoYVQjwPlV-yM5g&usqp=CAU\n",
      "https://encrypted-tbn0.gstatic.com/images?q=tbn:ANd9GcRVY_ENEVdRV_j8L3a88IL6-WlpvED3lmPYBA&usqp=CAU\n",
      "https://encrypted-tbn0.gstatic.com/images?q=tbn:ANd9GcSMucxpz2XWnV8w4tgQf_QFVrbemMfGJaaKcw&usqp=CAU\n",
      "https://encrypted-tbn0.gstatic.com/images?q=tbn:ANd9GcRSqYd8gCm80mMtOPl98rN2zrk4XQuxwaguBg&usqp=CAU\n",
      "https://encrypted-tbn0.gstatic.com/images?q=tbn:ANd9GcRtq6_TLvzocWrqsHmV2vJdAPAHMR_NaukCfA&usqp=CAU\n",
      "https://encrypted-tbn0.gstatic.com/images?q=tbn:ANd9GcR0LVWoOhl6wfJo1c9KdY03LIuBNQWz_JhpvA&usqp=CAU\n",
      "https://encrypted-tbn0.gstatic.com/images?q=tbn:ANd9GcR4pHmhXBo8EixCTViPuzrMPqP7Tk5njXmElQ&usqp=CAU\n",
      "https://encrypted-tbn0.gstatic.com/images?q=tbn:ANd9GcTCJDhngzXMifiQ5VuvUr6lMlwdP7fhEFyL9g&usqp=CAU\n",
      "https://encrypted-tbn0.gstatic.com/images?q=tbn:ANd9GcR8XKcrH_qnsybdVqs0eQBkR9Y0EXxMtvJYlw&usqp=CAU\n",
      "https://encrypted-tbn0.gstatic.com/images?q=tbn:ANd9GcT68b0O5wgNnMvg2hrPVjD4cRADRiFNcmXHvQ&usqp=CAU\n",
      "https://encrypted-tbn0.gstatic.com/images?q=tbn:ANd9GcSi7lA5Ni747wdDaTVt_MYEE-8Mca-uXC_1Fg&usqp=CAU\n",
      "https://encrypted-tbn0.gstatic.com/images?q=tbn:ANd9GcTGVsTgiYVV4sqAkPMwUzWcaEOIqi7QyUqDBw&usqp=CAU\n",
      "https://encrypted-tbn0.gstatic.com/images?q=tbn:ANd9GcTPAWdGSaVh1xmGGjcBDZRle1vRlI80s21bFw&usqp=CAU\n",
      "https://encrypted-tbn0.gstatic.com/images?q=tbn:ANd9GcTZ4IAqi5mRERadI-_E0MmLQCAQ9arLW8rg2g&usqp=CAU\n",
      "https://encrypted-tbn0.gstatic.com/images?q=tbn:ANd9GcSbABOoF1mrNHXOIJho56Zgu0aPTzhrDtV99Q&usqp=CAU\n",
      "https://encrypted-tbn0.gstatic.com/images?q=tbn:ANd9GcTtcM3Vgg0O2ZUebAcm_N2qgOe6v44tlMj2iA&usqp=CAU\n",
      "https://encrypted-tbn0.gstatic.com/images?q=tbn:ANd9GcTAiuFY3Ow4OsRFwdz8Yd0EKhp0lvSKJNIOLA&usqp=CAU\n",
      "https://encrypted-tbn0.gstatic.com/images?q=tbn:ANd9GcQUWig47qpYXoQNYNLWh0NAMdEv70Y-5Omt-A&usqp=CAU\n",
      "https://encrypted-tbn0.gstatic.com/images?q=tbn:ANd9GcSfeqv0agyD6mpdLtAjcMWj3vuUuSPyBsxCgw&usqp=CAU\n",
      "https://encrypted-tbn0.gstatic.com/images?q=tbn:ANd9GcRscKGaN_-0qXpGDHV_v5VhuLsvBOmB9ihvig&usqp=CAU\n",
      "https://encrypted-tbn0.gstatic.com/images?q=tbn:ANd9GcSsMMJ90OgbR75H4ABEu3XI4lDVj1eIVwijbA&usqp=CAU\n",
      "https://encrypted-tbn0.gstatic.com/images?q=tbn:ANd9GcQ04KE28830fFYXqkiUj0c6eTWA0UrngyOIjw&usqp=CAU\n",
      "https://encrypted-tbn0.gstatic.com/images?q=tbn:ANd9GcTvWqX4UmEdp2f6onaauAkGK8pUN5mSarO9hg&usqp=CAU\n",
      "https://encrypted-tbn0.gstatic.com/images?q=tbn:ANd9GcTbkgJUzDk3x9L6dWSVQNDw_P-9CQqggEn2Ig&usqp=CAU\n",
      "https://encrypted-tbn0.gstatic.com/images?q=tbn:ANd9GcRAGrCzl8Wwpq3HLB7RKYsDh7zVURq3xJmpEA&usqp=CAU\n",
      "https://encrypted-tbn0.gstatic.com/images?q=tbn:ANd9GcSo64GDDYsNjUYSIbtb9ks9lnA3ZDJP70lpnQ&usqp=CAU\n",
      "https://encrypted-tbn0.gstatic.com/images?q=tbn:ANd9GcSf2rfhKbZTkvdvLfIPrZffnHq9H98NwJgqEQ&usqp=CAU\n",
      "https://encrypted-tbn0.gstatic.com/images?q=tbn:ANd9GcTpwdxq2DoZmDAPaoiNU6tNK1znnB8ZtctDJA&usqp=CAU\n",
      "https://encrypted-tbn0.gstatic.com/images?q=tbn:ANd9GcR3DfHKNt_mI-H62_OQGHJfDfY2lMU1qEgHNA&usqp=CAU\n"
     ]
    }
   ],
   "source": [
    "import os\n",
    "import json \n",
    "import requests\n",
    "import selenium\n",
    "from selenium import webdriver \n",
    "from selenium.webdriver.chrome.service import Service\n",
    "import base64\n",
    "import time\n",
    "import urllib.request\n",
    "\n",
    "DRIVER_PATH = 'C:/Users/User/OneDrive - ZHAW/GitHub/AppliedDataScience/chromedriver.exe'\n",
    "SAVE_FOLDER = 'C:/Users/User/OneDrive - ZHAW/GitHub/AppliedDataScience/fruit-google/'\n",
    "GOOGLE_IMAGES = 'https://www.google.com/search?q=fruits+single&source=lnms&tbm=isch&sa=X&ved=2ahUKEwjb2_SOjJb3AhWbif0HHbVpCAoQ_AUoAXoECAEQAw&biw=1920&bih=927&dpr=1'\n",
    "\n",
    "driver = webdriver.Chrome(DRIVER_PATH)\n",
    "driver.get(GOOGLE_IMAGES)\n",
    "\n",
    "# Scroll to the end of the page\n",
    "def scroll_to_end():\n",
    "    driver.execute_script(\"window.scrollTo(0, document.body.scrollHeight);\")\n",
    "    time.sleep(5)\n",
    "    print('scroll done')\n",
    "\n",
    "counter = 0\n",
    "for i in range(1,2):     \n",
    "    scroll_to_end()\n",
    "    image_elements = driver.find_elements_by_class_name('rg_i')\n",
    "    print(len(image_elements))\n",
    "    for image in image_elements: \n",
    "        if (image.get_attribute('src') is not None):\n",
    "            my_image = image.get_attribute('src').split('data:image/jpeg;base64,')\n",
    "            filename = SAVE_FOLDER + 'fruit'+str(counter)+'.jpeg'\n",
    "            if(len(my_image) >1): \n",
    "                with open(filename, 'wb') as f: \n",
    "                    f.write(base64.b64decode(my_image[1]))\n",
    "            else: \n",
    "                print(image.get_attribute('src'))\n",
    "                urllib.request.urlretrieve(image.get_attribute('src'), SAVE_FOLDER + 'fruit'+ str(counter)+'.jpeg')\n",
    "            counter += 1"
   ]
  },
  {
   "cell_type": "code",
   "execution_count": null,
   "id": "ca966527",
   "metadata": {},
   "outputs": [],
   "source": []
  }
 ],
 "metadata": {
  "kernelspec": {
   "display_name": "Python 3 (ipykernel)",
   "language": "python",
   "name": "python3"
  },
  "language_info": {
   "codemirror_mode": {
    "name": "ipython",
    "version": 3
   },
   "file_extension": ".py",
   "mimetype": "text/x-python",
   "name": "python",
   "nbconvert_exporter": "python",
   "pygments_lexer": "ipython3",
   "version": "3.9.7"
  }
 },
 "nbformat": 4,
 "nbformat_minor": 5
}
