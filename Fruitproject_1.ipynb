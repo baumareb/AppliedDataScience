{
 "cells": [
  {
   "cell_type": "markdown",
   "id": "ebb307d4",
   "metadata": {},
   "source": [
    "# Applied Data Science\n",
    "\n",
    "## Projekt Gruppe 6 \n",
    "\n",
    "Gruppenmitglieder: Reto Alexander Nüesch Erismann, Michelle Daniela Wehrli, Rebecca Sarah Baumann\n"
   ]
  },
  {
   "cell_type": "markdown",
   "id": "4f987995",
   "metadata": {},
   "source": [
    "## Aufgabe 1.1\n",
    "\n",
    "Datenbezug über API-Schnittstelle von Kaggle, um das Modell zu trainieren, vaidieren und um es zu testen\n"
   ]
  },
  {
   "cell_type": "code",
   "execution_count": 1,
   "id": "e9e7d4cc",
   "metadata": {},
   "outputs": [
    {
     "name": "stdout",
     "output_type": "stream",
     "text": [
      "Requirement already satisfied: kaggle in c:\\users\\user\\.conda\\envs\\ads-env\\lib\\site-packages (1.5.12)\n",
      "Requirement already satisfied: python-dateutil in c:\\users\\user\\.conda\\envs\\ads-env\\lib\\site-packages (from kaggle) (2.8.2)\n",
      "Requirement already satisfied: urllib3 in c:\\users\\user\\.conda\\envs\\ads-env\\lib\\site-packages (from kaggle) (1.26.8)\n",
      "Requirement already satisfied: tqdm in c:\\users\\user\\.conda\\envs\\ads-env\\lib\\site-packages (from kaggle) (4.64.0)\n",
      "Requirement already satisfied: python-slugify in c:\\users\\user\\.conda\\envs\\ads-env\\lib\\site-packages (from kaggle) (6.1.1)\n",
      "Requirement already satisfied: requests in c:\\users\\user\\.conda\\envs\\ads-env\\lib\\site-packages (from kaggle) (2.27.1)\n",
      "Requirement already satisfied: six>=1.10 in c:\\users\\user\\.conda\\envs\\ads-env\\lib\\site-packages (from kaggle) (1.16.0)\n",
      "Requirement already satisfied: certifi in c:\\users\\user\\.conda\\envs\\ads-env\\lib\\site-packages (from kaggle) (2021.10.8)\n",
      "Requirement already satisfied: text-unidecode>=1.3 in c:\\users\\user\\.conda\\envs\\ads-env\\lib\\site-packages (from python-slugify->kaggle) (1.3)\n",
      "Requirement already satisfied: charset-normalizer~=2.0.0 in c:\\users\\user\\.conda\\envs\\ads-env\\lib\\site-packages (from requests->kaggle) (2.0.12)\n",
      "Requirement already satisfied: idna<4,>=2.5 in c:\\users\\user\\.conda\\envs\\ads-env\\lib\\site-packages (from requests->kaggle) (3.3)\n",
      "Requirement already satisfied: colorama in c:\\users\\user\\.conda\\envs\\ads-env\\lib\\site-packages (from tqdm->kaggle) (0.4.4)\n"
     ]
    }
   ],
   "source": [
    "!pip install kaggle"
   ]
  },
  {
   "cell_type": "code",
   "execution_count": 2,
   "id": "fee0a1b8",
   "metadata": {},
   "outputs": [
    {
     "name": "stdout",
     "output_type": "stream",
     "text": [
      "Requirement already satisfied: opendatasets in c:\\users\\user\\.conda\\envs\\ads-env\\lib\\site-packages (0.1.22)\n",
      "Requirement already satisfied: click in c:\\users\\user\\.conda\\envs\\ads-env\\lib\\site-packages (from opendatasets) (8.0.4)\n",
      "Requirement already satisfied: kaggle in c:\\users\\user\\.conda\\envs\\ads-env\\lib\\site-packages (from opendatasets) (1.5.12)\n",
      "Requirement already satisfied: tqdm in c:\\users\\user\\.conda\\envs\\ads-env\\lib\\site-packages (from opendatasets) (4.64.0)\n",
      "Requirement already satisfied: colorama in c:\\users\\user\\.conda\\envs\\ads-env\\lib\\site-packages (from click->opendatasets) (0.4.4)\n",
      "Requirement already satisfied: urllib3 in c:\\users\\user\\.conda\\envs\\ads-env\\lib\\site-packages (from kaggle->opendatasets) (1.26.8)\n",
      "Requirement already satisfied: python-slugify in c:\\users\\user\\.conda\\envs\\ads-env\\lib\\site-packages (from kaggle->opendatasets) (6.1.1)\n",
      "Requirement already satisfied: certifi in c:\\users\\user\\.conda\\envs\\ads-env\\lib\\site-packages (from kaggle->opendatasets) (2021.10.8)\n",
      "Requirement already satisfied: requests in c:\\users\\user\\.conda\\envs\\ads-env\\lib\\site-packages (from kaggle->opendatasets) (2.27.1)\n",
      "Requirement already satisfied: six>=1.10 in c:\\users\\user\\.conda\\envs\\ads-env\\lib\\site-packages (from kaggle->opendatasets) (1.16.0)\n",
      "Requirement already satisfied: python-dateutil in c:\\users\\user\\.conda\\envs\\ads-env\\lib\\site-packages (from kaggle->opendatasets) (2.8.2)\n",
      "Requirement already satisfied: text-unidecode>=1.3 in c:\\users\\user\\.conda\\envs\\ads-env\\lib\\site-packages (from python-slugify->kaggle->opendatasets) (1.3)\n",
      "Requirement already satisfied: charset-normalizer~=2.0.0 in c:\\users\\user\\.conda\\envs\\ads-env\\lib\\site-packages (from requests->kaggle->opendatasets) (2.0.12)\n",
      "Requirement already satisfied: idna<4,>=2.5 in c:\\users\\user\\.conda\\envs\\ads-env\\lib\\site-packages (from requests->kaggle->opendatasets) (3.3)\n"
     ]
    }
   ],
   "source": [
    "!pip install opendatasets"
   ]
  },
  {
   "cell_type": "markdown",
   "id": "cb95b9ae",
   "metadata": {},
   "source": [
    "#### Kommentar: Wir haben den Kaggle API-Token aus dem User-Account ins Working Directory des Jupyter-Notebooks heruntergeladen."
   ]
  },
  {
   "cell_type": "code",
   "execution_count": 3,
   "id": "03983ccf",
   "metadata": {},
   "outputs": [
    {
     "name": "stdout",
     "output_type": "stream",
     "text": [
      "Downloading fruit-recognition.zip to .\\fruit-recognition\n"
     ]
    },
    {
     "name": "stderr",
     "output_type": "stream",
     "text": [
      "100%|██████████| 102M/102M [00:02<00:00, 45.0MB/s] \n"
     ]
    },
    {
     "name": "stdout",
     "output_type": "stream",
     "text": [
      "\n"
     ]
    }
   ],
   "source": [
    "from kaggle.api.kaggle_api_extended import KaggleApi\n",
    "api = KaggleApi ()\n",
    "api.authenticate ()\n",
    "\n",
    "import opendatasets as od\n",
    "\n",
    "#od.download(\"https://www.kaggle.com/datasets/sshikamaru/fruit-recognition\")\n",
    "od.download(\"https://www.kaggle.com/datasets/sshikamaru/fruit-recognition\", force=True)  #falls die Bilder noch einmal heruntergeladen werden sollten"
   ]
  },
  {
   "cell_type": "markdown",
   "id": "88348668",
   "metadata": {},
   "source": [
    "## Aufgabe 1.2\n",
    "\n",
    "Bilder zur Überprüfung des Models über Web Scraping beziehen.\n",
    "Inspirierende Quelle: https://github.com/Emmanuel96/scrape-helmets-images-from-google/blob/main/scrape_helmet_images.py"
   ]
  },
  {
   "cell_type": "code",
   "execution_count": null,
   "id": "a8c00b4e",
   "metadata": {},
   "outputs": [],
   "source": [
    "#DRIVER_PATH = r'C:\\Users\\bauma\\OneDrive\\Desktop\\AppliedDataScience\\AppliedDataScience\\chromedriver.exe'\n",
    "#SAVE_FOLDER = r'C:\\Users\\bauma\\OneDrive\\Desktop\\AppliedDataScience\\AppliedDataScience\\fruit-google\\'"
   ]
  },
  {
   "cell_type": "code",
   "execution_count": 3,
   "id": "a3da6b4c",
   "metadata": {},
   "outputs": [
    {
     "ename": "SyntaxError",
     "evalue": "EOL while scanning string literal (Temp/ipykernel_15656/652589151.py, line 12)",
     "output_type": "error",
     "traceback": [
      "\u001b[1;36m  File \u001b[1;32m\"C:\\Users\\User\\AppData\\Local\\Temp/ipykernel_15656/652589151.py\"\u001b[1;36m, line \u001b[1;32m12\u001b[0m\n\u001b[1;33m    SAVE_FOLDER = r'C:\\Users\\User\\OneDrive - ZHAW\\GitHub\\AppliedDataScience\\fruit-google\\'\u001b[0m\n\u001b[1;37m                                                                                          ^\u001b[0m\n\u001b[1;31mSyntaxError\u001b[0m\u001b[1;31m:\u001b[0m EOL while scanning string literal\n"
     ]
    }
   ],
   "source": [
    "import os\n",
    "import json \n",
    "import requests\n",
    "import selenium\n",
    "from selenium import webdriver \n",
    "from selenium.webdriver.chrome.service import Service\n",
    "import base64\n",
    "import time\n",
    "import urllib.request\n",
    "\n",
    "DRIVER_PATH = r'C:\\Users\\User\\OneDrive - ZHAW\\GitHub\\AppliedDataScience\\chromedriver.exe'\n",
    "SAVE_FOLDER = r'C:\\Users\\User\\OneDrive - ZHAW\\GitHub\\AppliedDataScience\\fruit-google\\'\n",
    "\n",
    "GOOGLE_IMAGES = 'https://www.google.com/search?q=fruits+single&source=lnms&tbm=isch&sa=X&ved=2ahUKEwjb2_SOjJb3AhWbif0HHbVpCAoQ_AUoAXoECAEQAw&biw=1920&bih=927&dpr=1'\n",
    "\n",
    "driver = webdriver.Chrome(DRIVER_PATH)\n",
    "driver.get(GOOGLE_IMAGES)\n",
    "\n",
    "# Scroll to the end of the page\n",
    "def scroll_to_end():\n",
    "    driver.execute_script(\"window.scrollTo(0, document.body.scrollHeight);\")\n",
    "    time.sleep(5)\n",
    "    print('scroll done')\n",
    "\n",
    "counter = 0\n",
    "for i in range(1,2):     \n",
    "    scroll_to_end()\n",
    "    image_elements = driver.find_elements_by_class_name('rg_i')\n",
    "    print(len(image_elements))\n",
    "    for image in image_elements: \n",
    "        if (image.get_attribute('src') is not None):\n",
    "            my_image = image.get_attribute('src').split('data:image/jpeg;base64,')\n",
    "            filename = SAVE_FOLDER + 'fruit'+str(counter)+'.jpeg'\n",
    "            if(len(my_image) >1): \n",
    "                with open(filename, 'wb') as f: \n",
    "                    f.write(base64.b64decode(my_image[1]))\n",
    "            else: \n",
    "                print(image.get_attribute('src'))\n",
    "                urllib.request.urlretrieve(image.get_attribute('src'), SAVE_FOLDER + 'fruit'+ str(counter)+'.jpeg')\n",
    "            counter += 1"
   ]
  },
  {
   "cell_type": "code",
   "execution_count": null,
   "id": "f465a785",
   "metadata": {},
   "outputs": [],
   "source": []
  }
 ],
 "metadata": {
  "kernelspec": {
   "display_name": "Python 3 (ipykernel)",
   "language": "python",
   "name": "python3"
  },
  "language_info": {
   "codemirror_mode": {
    "name": "ipython",
    "version": 3
   },
   "file_extension": ".py",
   "mimetype": "text/x-python",
   "name": "python",
   "nbconvert_exporter": "python",
   "pygments_lexer": "ipython3",
   "version": "3.9.7"
  }
 },
 "nbformat": 4,
 "nbformat_minor": 5
}
