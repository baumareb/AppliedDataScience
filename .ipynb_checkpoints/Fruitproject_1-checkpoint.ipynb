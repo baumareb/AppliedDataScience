{
 "cells": [
  {
   "cell_type": "markdown",
   "id": "ebb307d4",
   "metadata": {},
   "source": [
    "# Applied Data Science\n",
    "\n",
    "## Projekt Gruppe 6 \n",
    "\n",
    "Gruppenmitglieder: Reto Alexander Nüesch Erismann, Michelle Daniela Wehrli, Rebecca Sarah Baumann\n"
   ]
  },
  {
   "cell_type": "markdown",
   "id": "4f987995",
   "metadata": {},
   "source": [
    "## Aufgabe 1.1\n",
    "\n",
    "Datenbezug über API-Schnittstelle von Kaggle, um das Modell zu trainieren, vaidieren und um es zu testen\n"
   ]
  },
  {
   "cell_type": "code",
   "execution_count": 1,
   "id": "e9e7d4cc",
   "metadata": {},
   "outputs": [
    {
     "name": "stdout",
     "output_type": "stream",
     "text": [
      "Requirement already satisfied: kaggle in c:\\users\\user\\.conda\\envs\\ads-env\\lib\\site-packages (1.5.12)\n",
      "Requirement already satisfied: python-dateutil in c:\\users\\user\\.conda\\envs\\ads-env\\lib\\site-packages (from kaggle) (2.8.2)\n",
      "Requirement already satisfied: urllib3 in c:\\users\\user\\.conda\\envs\\ads-env\\lib\\site-packages (from kaggle) (1.26.8)\n",
      "Requirement already satisfied: tqdm in c:\\users\\user\\.conda\\envs\\ads-env\\lib\\site-packages (from kaggle) (4.64.0)\n",
      "Requirement already satisfied: python-slugify in c:\\users\\user\\.conda\\envs\\ads-env\\lib\\site-packages (from kaggle) (6.1.1)\n",
      "Requirement already satisfied: requests in c:\\users\\user\\.conda\\envs\\ads-env\\lib\\site-packages (from kaggle) (2.27.1)\n",
      "Requirement already satisfied: six>=1.10 in c:\\users\\user\\.conda\\envs\\ads-env\\lib\\site-packages (from kaggle) (1.16.0)\n",
      "Requirement already satisfied: certifi in c:\\users\\user\\.conda\\envs\\ads-env\\lib\\site-packages (from kaggle) (2021.10.8)\n",
      "Requirement already satisfied: text-unidecode>=1.3 in c:\\users\\user\\.conda\\envs\\ads-env\\lib\\site-packages (from python-slugify->kaggle) (1.3)\n",
      "Requirement already satisfied: charset-normalizer~=2.0.0 in c:\\users\\user\\.conda\\envs\\ads-env\\lib\\site-packages (from requests->kaggle) (2.0.12)\n",
      "Requirement already satisfied: idna<4,>=2.5 in c:\\users\\user\\.conda\\envs\\ads-env\\lib\\site-packages (from requests->kaggle) (3.3)\n",
      "Requirement already satisfied: colorama in c:\\users\\user\\.conda\\envs\\ads-env\\lib\\site-packages (from tqdm->kaggle) (0.4.4)\n"
     ]
    }
   ],
   "source": [
    "!pip install kaggle"
   ]
  },
  {
   "cell_type": "code",
   "execution_count": 2,
   "id": "fee0a1b8",
   "metadata": {},
   "outputs": [
    {
     "name": "stdout",
     "output_type": "stream",
     "text": [
      "Requirement already satisfied: opendatasets in c:\\users\\user\\.conda\\envs\\ads-env\\lib\\site-packages (0.1.22)\n",
      "Requirement already satisfied: click in c:\\users\\user\\.conda\\envs\\ads-env\\lib\\site-packages (from opendatasets) (8.0.4)\n",
      "Requirement already satisfied: kaggle in c:\\users\\user\\.conda\\envs\\ads-env\\lib\\site-packages (from opendatasets) (1.5.12)\n",
      "Requirement already satisfied: tqdm in c:\\users\\user\\.conda\\envs\\ads-env\\lib\\site-packages (from opendatasets) (4.64.0)\n",
      "Requirement already satisfied: colorama in c:\\users\\user\\.conda\\envs\\ads-env\\lib\\site-packages (from click->opendatasets) (0.4.4)\n",
      "Requirement already satisfied: urllib3 in c:\\users\\user\\.conda\\envs\\ads-env\\lib\\site-packages (from kaggle->opendatasets) (1.26.8)\n",
      "Requirement already satisfied: python-slugify in c:\\users\\user\\.conda\\envs\\ads-env\\lib\\site-packages (from kaggle->opendatasets) (6.1.1)\n",
      "Requirement already satisfied: certifi in c:\\users\\user\\.conda\\envs\\ads-env\\lib\\site-packages (from kaggle->opendatasets) (2021.10.8)\n",
      "Requirement already satisfied: requests in c:\\users\\user\\.conda\\envs\\ads-env\\lib\\site-packages (from kaggle->opendatasets) (2.27.1)\n",
      "Requirement already satisfied: six>=1.10 in c:\\users\\user\\.conda\\envs\\ads-env\\lib\\site-packages (from kaggle->opendatasets) (1.16.0)\n",
      "Requirement already satisfied: python-dateutil in c:\\users\\user\\.conda\\envs\\ads-env\\lib\\site-packages (from kaggle->opendatasets) (2.8.2)\n",
      "Requirement already satisfied: text-unidecode>=1.3 in c:\\users\\user\\.conda\\envs\\ads-env\\lib\\site-packages (from python-slugify->kaggle->opendatasets) (1.3)\n",
      "Requirement already satisfied: charset-normalizer~=2.0.0 in c:\\users\\user\\.conda\\envs\\ads-env\\lib\\site-packages (from requests->kaggle->opendatasets) (2.0.12)\n",
      "Requirement already satisfied: idna<4,>=2.5 in c:\\users\\user\\.conda\\envs\\ads-env\\lib\\site-packages (from requests->kaggle->opendatasets) (3.3)\n"
     ]
    }
   ],
   "source": [
    "!pip install opendatasets"
   ]
  },
  {
   "cell_type": "markdown",
   "id": "cb95b9ae",
   "metadata": {},
   "source": [
    "#### Kommentar: Wir haben den Kaggle API-Token aus dem User-Account ins Working Directory des Jupyter-Notebooks heruntergeladen."
   ]
  },
  {
   "cell_type": "code",
   "execution_count": 3,
   "id": "03983ccf",
   "metadata": {},
   "outputs": [
    {
     "name": "stdout",
     "output_type": "stream",
     "text": [
      "Downloading fruit-recognition.zip to .\\fruit-recognition\n"
     ]
    },
    {
     "name": "stderr",
     "output_type": "stream",
     "text": [
      "100%|██████████| 102M/102M [00:02<00:00, 45.0MB/s] \n"
     ]
    },
    {
     "name": "stdout",
     "output_type": "stream",
     "text": [
      "\n"
     ]
    }
   ],
   "source": [
    "from kaggle.api.kaggle_api_extended import KaggleApi\n",
    "api = KaggleApi ()\n",
    "api.authenticate ()\n",
    "\n",
    "import opendatasets as od\n",
    "\n",
    "#od.download(\"https://www.kaggle.com/datasets/sshikamaru/fruit-recognition\")\n",
    "od.download(\"https://www.kaggle.com/datasets/sshikamaru/fruit-recognition\", force=True)  #falls die Bilder noch einmal heruntergeladen werden sollten"
   ]
  },
  {
   "cell_type": "markdown",
   "id": "88348668",
   "metadata": {},
   "source": [
    "## Aufgabe 1.2\n",
    "\n",
    "Bilder zur Überprüfung des Models über Web Scraping beziehen.\n",
    "Inspirierende Quelle: https://github.com/Emmanuel96/scrape-helmets-images-from-google/blob/main/scrape_helmet_images.py"
   ]
  },
  {
   "cell_type": "code",
   "execution_count": 4,
   "id": "a3da6b4c",
   "metadata": {},
   "outputs": [
    {
     "name": "stderr",
     "output_type": "stream",
     "text": [
      "C:\\Users\\User\\AppData\\Local\\Temp/ipykernel_20640/1535187361.py:19: DeprecationWarning: executable_path has been deprecated, please pass in a Service object\n",
      "  driver = webdriver.Chrome(DRIVER_PATH)\n"
     ]
    },
    {
     "name": "stdout",
     "output_type": "stream",
     "text": [
      "scroll done\n",
      "100\n"
     ]
    },
    {
     "name": "stderr",
     "output_type": "stream",
     "text": [
      "C:\\Users\\User\\AppData\\Local\\Temp/ipykernel_20640/1535187361.py:31: DeprecationWarning: find_elements_by_class_name is deprecated. Please use find_elements(by=By.CLASS_NAME, value=name) instead\n",
      "  image_elements = driver.find_elements_by_class_name('rg_i')\n"
     ]
    },
    {
     "name": "stdout",
     "output_type": "stream",
     "text": [
      "https://encrypted-tbn0.gstatic.com/images?q=tbn:ANd9GcS_n11axGtCaCKrBWOfpqdX-WySrxoG8y4Pig&usqp=CAU\n",
      "https://encrypted-tbn0.gstatic.com/images?q=tbn:ANd9GcSsQT_ab9WY4D9Lz-bmVyjDhOexPI_Yy-i5MA&usqp=CAU\n",
      "https://encrypted-tbn0.gstatic.com/images?q=tbn:ANd9GcQYrY0AogFmcOt_SfHLaQeiK-WApkadosyHUA&usqp=CAU\n",
      "https://encrypted-tbn0.gstatic.com/images?q=tbn:ANd9GcSbIG7wu1xG8a33mtm_VSjipwpu-Y9QPHeyYw&usqp=CAU\n",
      "https://encrypted-tbn0.gstatic.com/images?q=tbn:ANd9GcREw4s_05KWcHfuM_YKbt8rJkii0VO-2hHgjA&usqp=CAU\n",
      "https://encrypted-tbn0.gstatic.com/images?q=tbn:ANd9GcShluzioakO5_O8VTfwz8k2qkaUMCVgMvRRsw&usqp=CAU\n",
      "https://encrypted-tbn0.gstatic.com/images?q=tbn:ANd9GcSeRLxUF3whkEGEkLCzFGhmr81IAXkdiNAWZA&usqp=CAU\n",
      "https://encrypted-tbn0.gstatic.com/images?q=tbn:ANd9GcT68b0O5wgNnMvg2hrPVjD4cRADRiFNcmXHvQ&usqp=CAU\n",
      "https://encrypted-tbn0.gstatic.com/images?q=tbn:ANd9GcTgcwESw87QLkM2CfxaNDEpcl0Os5veQ19Bkw&usqp=CAU\n",
      "https://encrypted-tbn0.gstatic.com/images?q=tbn:ANd9GcRFkVsfNaAigaag8zM2cCdrqN4dqrzGHuln8A&usqp=CAU\n",
      "https://encrypted-tbn0.gstatic.com/images?q=tbn:ANd9GcRSoSGyS-FS6JNP1MljoZ0LGmoyqnFjxbku2w&usqp=CAU\n",
      "https://encrypted-tbn0.gstatic.com/images?q=tbn:ANd9GcRLz_wT1jRfE3OJE-p17AKjUcrW2YdswjfYTw&usqp=CAU\n",
      "https://encrypted-tbn0.gstatic.com/images?q=tbn:ANd9GcTN4PbdTNEGFn2wN0ow-OjUgyyosN9x-Grh7w&usqp=CAU\n",
      "https://encrypted-tbn0.gstatic.com/images?q=tbn:ANd9GcTgFHKfaISUWVLcI8HEnGQJ4mhKMOMfAT6ebw&usqp=CAU\n",
      "https://encrypted-tbn0.gstatic.com/images?q=tbn:ANd9GcQ46udGgnDvsHOBNlTeS7NZSQ1WfG-WAbdF7A&usqp=CAU\n",
      "https://encrypted-tbn0.gstatic.com/images?q=tbn:ANd9GcR90DaTOri3CCJxaNZ2mKrD_rKJL1LUNb5O9Q&usqp=CAU\n",
      "https://encrypted-tbn0.gstatic.com/images?q=tbn:ANd9GcT0tnDKJjj4bgU_qTpv3bXkRoA6BaG_8sSq1Q&usqp=CAU\n",
      "https://encrypted-tbn0.gstatic.com/images?q=tbn:ANd9GcT9PLEf0cwcodEtSekYByEk89H5Q9N9yDH6cQ&usqp=CAU\n",
      "https://encrypted-tbn0.gstatic.com/images?q=tbn:ANd9GcRSqYd8gCm80mMtOPl98rN2zrk4XQuxwaguBg&usqp=CAU\n",
      "https://encrypted-tbn0.gstatic.com/images?q=tbn:ANd9GcRacYGKpU-EnaR0BT0ZJv1EQcsGiGJjDNR2Wg&usqp=CAU\n",
      "https://encrypted-tbn0.gstatic.com/images?q=tbn:ANd9GcREE0bJxf1LZj5A3wyo0F5xv13CQKGTePzbkg&usqp=CAU\n",
      "https://encrypted-tbn0.gstatic.com/images?q=tbn:ANd9GcQrpBOkFGYaxg4jZBscAvdfqCiXccj-7FfCbA&usqp=CAU\n",
      "https://encrypted-tbn0.gstatic.com/images?q=tbn:ANd9GcRmm-4QjcGwkRGc8z1UR4eXG-DaOfDrHBRBdw&usqp=CAU\n",
      "https://encrypted-tbn0.gstatic.com/images?q=tbn:ANd9GcTyszYbRy4IHy6paCEop7ml7qzeCHuUPOnr_A&usqp=CAU\n",
      "https://encrypted-tbn0.gstatic.com/images?q=tbn:ANd9GcQWAilI2opJpWZNVFIqz0ADxbPY5-FBSscbMQ&usqp=CAU\n",
      "https://encrypted-tbn0.gstatic.com/images?q=tbn:ANd9GcT9eQkHdCmf4nqEW2xTqJQyaL5l7cLoiwZAfQ&usqp=CAU\n",
      "https://encrypted-tbn0.gstatic.com/images?q=tbn:ANd9GcR8XKcrH_qnsybdVqs0eQBkR9Y0EXxMtvJYlw&usqp=CAU\n",
      "https://encrypted-tbn0.gstatic.com/images?q=tbn:ANd9GcTCB1SoPAu8xv9nZiDb4-WfyjFpdLI44GHh9w&usqp=CAU\n",
      "https://encrypted-tbn0.gstatic.com/images?q=tbn:ANd9GcQSur4wKuDqbLRXeZHq4mW3tacuIe4mkfZ20A&usqp=CAU\n",
      "https://encrypted-tbn0.gstatic.com/images?q=tbn:ANd9GcRAGrCzl8Wwpq3HLB7RKYsDh7zVURq3xJmpEA&usqp=CAU\n",
      "https://encrypted-tbn0.gstatic.com/images?q=tbn:ANd9GcTZ4IAqi5mRERadI-_E0MmLQCAQ9arLW8rg2g&usqp=CAU\n",
      "https://encrypted-tbn0.gstatic.com/images?q=tbn:ANd9GcQXZekvTX2apbdEfRqPpeY9xfkgLqwh4vizRQ&usqp=CAU\n",
      "https://encrypted-tbn0.gstatic.com/images?q=tbn:ANd9GcSB74eIvgqkOQww6CwqwAhDJ_cVDzJwXFAEZQ&usqp=CAU\n",
      "https://encrypted-tbn0.gstatic.com/images?q=tbn:ANd9GcQQv6Ar1g126JTiWHs57hoInbq1mUUYRswkPA&usqp=CAU\n",
      "https://encrypted-tbn0.gstatic.com/images?q=tbn:ANd9GcRRQtbQTRkbriWYAlWFJqCxj6vxN5QJzag2xQ&usqp=CAU\n",
      "https://encrypted-tbn0.gstatic.com/images?q=tbn:ANd9GcSMucxpz2XWnV8w4tgQf_QFVrbemMfGJaaKcw&usqp=CAU\n",
      "https://encrypted-tbn0.gstatic.com/images?q=tbn:ANd9GcQUWig47qpYXoQNYNLWh0NAMdEv70Y-5Omt-A&usqp=CAU\n",
      "https://encrypted-tbn0.gstatic.com/images?q=tbn:ANd9GcTSmEBgEDi1zcMEqmGTcRdSVPjuFsK41z0eJA&usqp=CAU\n",
      "https://encrypted-tbn0.gstatic.com/images?q=tbn:ANd9GcTGFimR8fudJis_VToMkvP8kgPJ9ZsoGbSAxg&usqp=CAU\n",
      "https://encrypted-tbn0.gstatic.com/images?q=tbn:ANd9GcTYIld4FHtx5FtOrSxZexRUC-3rJcv597VqEg&usqp=CAU\n",
      "https://encrypted-tbn0.gstatic.com/images?q=tbn:ANd9GcQ8_WK5rrdpqY4It9OmYxmo3WZPTxk4dDDipg&usqp=CAU\n",
      "https://encrypted-tbn0.gstatic.com/images?q=tbn:ANd9GcQm39XA4RKlKyGGBvEikGhCI2PN0c8pmtvaxQ&usqp=CAU\n",
      "https://encrypted-tbn0.gstatic.com/images?q=tbn:ANd9GcRJR21R1XhwL7zNOdbj84FhZkHB0mvtUVsZMg&usqp=CAU\n",
      "https://encrypted-tbn0.gstatic.com/images?q=tbn:ANd9GcQSgWwUPJpzkmeY3EDLh2SxE30oDFisJmse5A&usqp=CAU\n",
      "https://encrypted-tbn0.gstatic.com/images?q=tbn:ANd9GcR0LVWoOhl6wfJo1c9KdY03LIuBNQWz_JhpvA&usqp=CAU\n",
      "https://encrypted-tbn0.gstatic.com/images?q=tbn:ANd9GcR4pHmhXBo8EixCTViPuzrMPqP7Tk5njXmElQ&usqp=CAU\n",
      "https://encrypted-tbn0.gstatic.com/images?q=tbn:ANd9GcQkKkson5B2xNJWmA9EXwhFN4hUuN9ltOMhgg&usqp=CAU\n",
      "https://encrypted-tbn0.gstatic.com/images?q=tbn:ANd9GcR3DfHKNt_mI-H62_OQGHJfDfY2lMU1qEgHNA&usqp=CAU\n",
      "https://encrypted-tbn0.gstatic.com/images?q=tbn:ANd9GcQ_X33ZEv11uejZPHirVX1dE-MQnNCQzZ6zTQ&usqp=CAU\n",
      "https://encrypted-tbn0.gstatic.com/images?q=tbn:ANd9GcSi7lA5Ni747wdDaTVt_MYEE-8Mca-uXC_1Fg&usqp=CAU\n",
      "https://encrypted-tbn0.gstatic.com/images?q=tbn:ANd9GcSkKLjte9VvwQ7CowtStbP-_Ghg2KDW8zCT4g&usqp=CAU\n",
      "https://encrypted-tbn0.gstatic.com/images?q=tbn:ANd9GcSbABOoF1mrNHXOIJho56Zgu0aPTzhrDtV99Q&usqp=CAU\n",
      "https://encrypted-tbn0.gstatic.com/images?q=tbn:ANd9GcQ4SNgA9m_dfPF2PmzyKu1Jiu3XI6gEYzVJ6A&usqp=CAU\n",
      "https://encrypted-tbn0.gstatic.com/images?q=tbn:ANd9GcRfilRZg45tzGLSSC2aBR3skyuHxjJIbhcG8Q&usqp=CAU\n",
      "https://encrypted-tbn0.gstatic.com/images?q=tbn:ANd9GcRcpN-lrRxVnVYgvZ20_iq7a1qqQNpyYTqqWw&usqp=CAU\n",
      "https://encrypted-tbn0.gstatic.com/images?q=tbn:ANd9GcSf2rfhKbZTkvdvLfIPrZffnHq9H98NwJgqEQ&usqp=CAU\n"
     ]
    }
   ],
   "source": [
    "import os\n",
    "import json \n",
    "import requests\n",
    "import selenium\n",
    "from selenium import webdriver \n",
    "from selenium.webdriver.chrome.service import Service\n",
    "import base64\n",
    "import time\n",
    "import urllib.request\n",
    "\n",
    "DRIVER_PATH = r'C:\\Users\\User\\OneDrive - ZHAW\\GitHub\\AppliedDataScience\\chromedriver.exe '\n",
    "SAVE_FOLDER = r'C:\\Users\\User\\OneDrive - ZHAW\\GitHub\\AppliedDataScience\\fruit-google\\ '\n",
    "\n",
    "#DRIVER_PATH = r'C:\\Users\\bauma\\OneDrive\\Desktop\\AppliedDataScience\\AppliedDataScience\\chromedriver.exe '\n",
    "#SAVE_FOLDER = r'C:\\Users\\bauma\\OneDrive\\Desktop\\AppliedDataScience\\AppliedDataScience\\fruit-google\\ '\n",
    "\n",
    "GOOGLE_IMAGES = 'https://www.google.com/search?q=fruits+single&source=lnms&tbm=isch&sa=X&ved=2ahUKEwjb2_SOjJb3AhWbif0HHbVpCAoQ_AUoAXoECAEQAw&biw=1920&bih=927&dpr=1'\n",
    "\n",
    "driver = webdriver.Chrome(DRIVER_PATH)\n",
    "driver.get(GOOGLE_IMAGES)\n",
    "\n",
    "# Scroll to the end of the page\n",
    "def scroll_to_end():\n",
    "    driver.execute_script(\"window.scrollTo(0, document.body.scrollHeight);\")\n",
    "    time.sleep(5)\n",
    "    print('scroll done')\n",
    "\n",
    "counter = 0\n",
    "for i in range(1,2):     \n",
    "    scroll_to_end()\n",
    "    image_elements = driver.find_elements_by_class_name('rg_i')\n",
    "    print(len(image_elements))\n",
    "    for image in image_elements: \n",
    "        if (image.get_attribute('src') is not None):\n",
    "            my_image = image.get_attribute('src').split('data:image/jpeg;base64,')\n",
    "            filename = SAVE_FOLDER + 'fruit'+str(counter)+'.jpeg'\n",
    "            if(len(my_image) >1): \n",
    "                with open(filename, 'wb') as f: \n",
    "                    f.write(base64.b64decode(my_image[1]))\n",
    "            else: \n",
    "                print(image.get_attribute('src'))\n",
    "                urllib.request.urlretrieve(image.get_attribute('src'), SAVE_FOLDER + 'fruit'+ str(counter)+'.jpeg')\n",
    "            counter += 1"
   ]
  },
  {
   "cell_type": "code",
   "execution_count": null,
   "id": "f465a785",
   "metadata": {},
   "outputs": [],
   "source": []
  }
 ],
 "metadata": {
  "kernelspec": {
   "display_name": "Python 3 (ipykernel)",
   "language": "python",
   "name": "python3"
  },
  "language_info": {
   "codemirror_mode": {
    "name": "ipython",
    "version": 3
   },
   "file_extension": ".py",
   "mimetype": "text/x-python",
   "name": "python",
   "nbconvert_exporter": "python",
   "pygments_lexer": "ipython3",
   "version": "3.9.7"
  }
 },
 "nbformat": 4,
 "nbformat_minor": 5
}
