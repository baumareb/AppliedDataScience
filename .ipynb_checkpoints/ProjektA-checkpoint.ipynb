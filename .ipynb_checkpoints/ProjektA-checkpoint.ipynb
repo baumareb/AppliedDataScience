{
 "cells": [
  {
   "cell_type": "markdown",
   "id": "dff4ba4d",
   "metadata": {},
   "source": [
    "# Applied Data Science\n",
    "\n",
    "## Projekt Gruppe 6 \n",
    "\n",
    "Gruppenmitglieder: Reto Alexander Nüesch Erismann, Michelle Daniela Wehrli, Rebecca Sarah Baumann\n"
   ]
  },
  {
   "cell_type": "markdown",
   "id": "ab12a19a",
   "metadata": {},
   "source": [
    "## Aufgabe 1.1\n",
    "\n",
    "Datenbezug über API-Schnittstelle von Kaggle\n"
   ]
  },
  {
   "cell_type": "code",
   "execution_count": 1,
   "id": "8865e13d",
   "metadata": {},
   "outputs": [],
   "source": [
    "# !pip install kaggle"
   ]
  },
  {
   "cell_type": "code",
   "execution_count": 2,
   "id": "b76840ef",
   "metadata": {},
   "outputs": [],
   "source": [
    "# !pip install opendatasets"
   ]
  },
  {
   "cell_type": "markdown",
   "id": "c463d0ed",
   "metadata": {},
   "source": [
    "#### Comment: We manually downloaded the kaeggle-credentials via the User account and saved the kaggle.json in current working directory."
   ]
  },
  {
   "cell_type": "code",
   "execution_count": 3,
   "id": "7664e796",
   "metadata": {},
   "outputs": [
    {
     "name": "stdout",
     "output_type": "stream",
     "text": [
      "Skipping, found downloaded files in \".\\fruit-recognition\" (use force=True to force download)\n"
     ]
    }
   ],
   "source": [
    "from kaggle.api.kaggle_api_extended import KaggleApi\n",
    "api = KaggleApi ()\n",
    "api.authenticate ()\n",
    "\n",
    "import opendatasets as od\n",
    "od.download(\"https://www.kaggle.com/datasets/sshikamaru/fruit-recognition\")\n",
    "\n",
    "# od.download(\"https://www.kaggle.com/datasets/sshikamaru/fruit-recognition\", force=True) ... falls die Bilder noch einmal heruntergeladen werden sollten"
   ]
  },
  {
   "cell_type": "markdown",
   "id": "da72892e",
   "metadata": {},
   "source": [
    "## Aufgabe 1.2\n",
    "\n",
    "Bilder zur Überprüfung des Models über Web Scraping beziehen."
   ]
  },
  {
   "cell_type": "code",
   "execution_count": 10,
   "id": "3c3e4738",
   "metadata": {},
   "outputs": [
    {
     "name": "stdout",
     "output_type": "stream",
     "text": [
      "Requirement already satisfied: BeautifulSoup4 in c:\\users\\user\\.conda\\envs\\ads-env\\lib\\site-packages (4.10.0)\n",
      "Requirement already satisfied: soupsieve>1.2 in c:\\users\\user\\.conda\\envs\\ads-env\\lib\\site-packages (from BeautifulSoup4) (2.3.1)\n"
     ]
    }
   ],
   "source": [
    "import os\n",
    "import json \n",
    "import requests\n",
    "import selenium\n",
    "from selenium import webdriver \n",
    "from selenium.webdriver.chrome.service import Service\n",
    "import base64\n",
    "import time\n",
    "import urllib.request\n",
    "\n",
    "DRIVER_PATH = 'C:/Users/User/OneDrive - ZHAW/GitHub/AppliedDataScience/chromedriver.exe'\n",
    "SAVE_FOLDER = 'C:/Users/User/OneDrive - ZHAW/GitHub/AppliedDataScience/fruit-google'\n",
    "GOOGLE_IMAGES = 'https://www.google.com/search?q=fruits+single&source=lnms&tbm=isch&sa=X&ved=2ahUKEwjb2_SOjJb3AhWbif0HHbVpCAoQ_AUoAXoECAEQAw&biw=1920&bih=927&dpr=1'\n",
    "\n",
    "driver = webdriver.Chrome(DRIVER_PATH)\n",
    "driver.get(GOOGLE_IMAGES)\n",
    "\n",
    "# Scroll to the end of the page\n",
    "def scroll_to_end():\n",
    "    driver.execute_script(\"window.scrollTo(0, document.body.scrollHeight);\")\n",
    "    time.sleep(5)\n",
    "    print('scroll done')\n",
    "\n",
    " counter = 0\n",
    "for i in range(1,3):     \n",
    "    scroll_to_end()\n",
    "    image_elements = driver.find_elements_by_class_name('rg_i')\n",
    "    print(len(image_elements))\n",
    "    for image in image_elements: \n",
    "        if (image.get_attribute('src') is not None):\n",
    "            my_image = image.get_attribute('src').split('data:image/jpeg;base64,')\n",
    "            filename = SAVE_FOLDER + 'helmet'+str(counter)+'.jpeg'\n",
    "            if(len(my_image) >1): \n",
    "                with open(filename, 'wb') as f: \n",
    "                    f.write(base64.b64decode(my_image[1]))\n",
    "            else: \n",
    "                print(image.get_attribute('src'))\n",
    "                urllib.request.urlretrieve(image.get_attribute('src'), SAVE_FOLDER + 'helmet'+ str(counter)+'.jpeg')\n",
    "            counter += 1"
   ]
  },
  {
   "cell_type": "code",
   "execution_count": 18,
   "id": "4d987ff4",
   "metadata": {},
   "outputs": [
    {
     "ename": "AttributeError",
     "evalue": "'NoneType' object has no attribute 'nextSibling'",
     "output_type": "error",
     "traceback": [
      "\u001b[1;31m---------------------------------------------------------------------------\u001b[0m",
      "\u001b[1;31mAttributeError\u001b[0m                            Traceback (most recent call last)",
      "\u001b[1;32m~\\AppData\\Local\\Temp/ipykernel_15136/3941337494.py\u001b[0m in \u001b[0;36m<module>\u001b[1;34m\u001b[0m\n\u001b[0;32m      5\u001b[0m \u001b[0msoup\u001b[0m \u001b[1;33m=\u001b[0m \u001b[0mBeautifulSoup\u001b[0m\u001b[1;33m(\u001b[0m\u001b[0mhtml_page\u001b[0m\u001b[1;33m.\u001b[0m\u001b[0mcontent\u001b[0m\u001b[1;33m,\u001b[0m \u001b[1;34m'html.parser'\u001b[0m\u001b[1;33m)\u001b[0m\u001b[1;33m\u001b[0m\u001b[1;33m\u001b[0m\u001b[0m\n\u001b[0;32m      6\u001b[0m \u001b[0mwarning\u001b[0m \u001b[1;33m=\u001b[0m \u001b[0msoup\u001b[0m\u001b[1;33m.\u001b[0m\u001b[0mfind\u001b[0m\u001b[1;33m(\u001b[0m\u001b[1;34m'div'\u001b[0m\u001b[1;33m,\u001b[0m \u001b[0mclass_\u001b[0m\u001b[1;33m=\u001b[0m\u001b[1;34m\"alert alert-warning\"\u001b[0m\u001b[1;33m)\u001b[0m\u001b[1;33m\u001b[0m\u001b[1;33m\u001b[0m\u001b[0m\n\u001b[1;32m----> 7\u001b[1;33m \u001b[0mbook_container\u001b[0m \u001b[1;33m=\u001b[0m \u001b[0mwarning\u001b[0m\u001b[1;33m.\u001b[0m\u001b[0mnextSibling\u001b[0m\u001b[1;33m.\u001b[0m\u001b[0mnextSibling\u001b[0m\u001b[1;33m\u001b[0m\u001b[1;33m\u001b[0m\u001b[0m\n\u001b[0m\u001b[0;32m      8\u001b[0m \u001b[1;33m\u001b[0m\u001b[0m\n\u001b[0;32m      9\u001b[0m \u001b[1;33m\u001b[0m\u001b[0m\n",
      "\u001b[1;31mAttributeError\u001b[0m: 'NoneType' object has no attribute 'nextSibling'"
     ]
    }
   ],
   "source": []
  },
  {
   "cell_type": "code",
   "execution_count": 15,
   "id": "205c17d2",
   "metadata": {},
   "outputs": [
    {
     "ename": "ModuleNotFoundError",
     "evalue": "No module named 'urllib2'",
     "output_type": "error",
     "traceback": [
      "\u001b[1;31m---------------------------------------------------------------------------\u001b[0m",
      "\u001b[1;31mModuleNotFoundError\u001b[0m                       Traceback (most recent call last)",
      "\u001b[1;32m~\\AppData\\Local\\Temp/ipykernel_15136/3894863948.py\u001b[0m in \u001b[0;36m<module>\u001b[1;34m\u001b[0m\n\u001b[0;32m      1\u001b[0m \u001b[1;32mimport\u001b[0m \u001b[0mos\u001b[0m\u001b[1;33m\u001b[0m\u001b[1;33m\u001b[0m\u001b[0m\n\u001b[0;32m      2\u001b[0m \u001b[1;32mimport\u001b[0m \u001b[0murllib\u001b[0m\u001b[1;33m\u001b[0m\u001b[1;33m\u001b[0m\u001b[0m\n\u001b[1;32m----> 3\u001b[1;33m \u001b[1;32mimport\u001b[0m \u001b[0murllib2\u001b[0m\u001b[1;33m\u001b[0m\u001b[1;33m\u001b[0m\u001b[0m\n\u001b[0m\u001b[0;32m      4\u001b[0m \u001b[1;33m\u001b[0m\u001b[0m\n\u001b[0;32m      5\u001b[0m \u001b[1;33m\u001b[0m\u001b[0m\n",
      "\u001b[1;31mModuleNotFoundError\u001b[0m: No module named 'urllib2'"
     ]
    }
   ],
   "source": [
    "import os\n",
    "import urllib\n",
    "import urllib2\n",
    "\n",
    "\n",
    "from bs4 import BeautifulSoup\n",
    "\n",
    "url = \"https://www.google.ch/search?q=fruits%20single&tbm=isch&tbs=isz:m&rlz=1C2CSMH_deCH956CH972&hl=de&sa=X&ved=0CAMQpwVqFwoTCOjN7ICMlvcCFQAAAAAdAAAAABAD&biw=2543&bih=1290\"\n",
    "html = urllib2.urlopen(url)\n",
    "soup = BeautifulSoup(html)\n",
    "\n",
    "imgs = soup.findAll(\"div\", {\"class\":\"thumb-pic\"})\n",
    "for img in imgs:\n",
    "        imgUrl = img.a['href'].split(\"imgurl=\")[1]\n",
    "        urllib.urlretrieve(imgUrl, os.path.basename(imgUrl))\n",
    "        \n",
    "        "
   ]
  },
  {
   "cell_type": "code",
   "execution_count": null,
   "id": "bf9c846a",
   "metadata": {},
   "outputs": [],
   "source": [
    "# Web Scraping of fruits\n",
    "import requests\n",
    "\n",
    "# Download the page (Google search keyword: fruits single)\n",
    "page = requests.get(\"https://www.google.ch/search?q=fruits%20single&tbm=isch&tbs=isz:m&rlz=1C2CSMH_deCH956CH972&hl=de&sa=X&ved=0CAMQpwVqFwoTCOjN7ICMlvcCFQAAAAAdAAAAABAD&biw=2543&bih=1290\")\n",
    "\n",
    "# Parsing a page with BeautifulSoup\n",
    "from bs4 import BeautifulSoup\n",
    "soup = BeautifulSoup(page.content, 'html.parser')\n",
    "\n",
    "# Iterator\n",
    "import numpy as np \n",
    "def createList(r1, r2): \n",
    "    return np.arange(r1, r2+1, 3)\n",
    "r1, r2 = 3, 10\n",
    "list_base_infos = createList(r1, r2)\n",
    "\n",
    "# Deriving infos from <p> tags (unformatted text)\n",
    "print(\"Current housing offers in the city of Zurich from www.homegate.ch:\")\n",
    "print(\"------------------------------------------------------------------\")\n",
    "for i in list_base_infos:\n",
    "    print(soup.find_all('p')[i+1].get_text(), soup.find_all('p')[i].get_text())\n",
    "    \n",
    "# In praxis browser automation is often used to execute javascripts and get the content of websites\n",
    "# Therefore, selenium is often used: https://selenium-python.readthedocs.io"
   ]
  },
  {
   "cell_type": "code",
   "execution_count": null,
   "id": "71535a1a",
   "metadata": {},
   "outputs": [],
   "source": []
  }
 ],
 "metadata": {
  "kernelspec": {
   "display_name": "Python 3 (ipykernel)",
   "language": "python",
   "name": "python3"
  },
  "language_info": {
   "codemirror_mode": {
    "name": "ipython",
    "version": 3
   },
   "file_extension": ".py",
   "mimetype": "text/x-python",
   "name": "python",
   "nbconvert_exporter": "python",
   "pygments_lexer": "ipython3",
   "version": "3.9.7"
  }
 },
 "nbformat": 4,
 "nbformat_minor": 5
}
