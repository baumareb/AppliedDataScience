{
 "cells": [
  {
   "cell_type": "markdown",
   "id": "dff4ba4d",
   "metadata": {},
   "source": [
    "Applied Data Science\n",
    "\n",
    "Projekt Gruppe 6 \n",
    "\n",
    "Gruppenmitglieder: Reto Alexander Nüesch Erismann, Michelle Daniela Wehrli, Rebecca Sarah Baumann\n"
   ]
  },
  {
   "cell_type": "markdown",
   "id": "ab12a19a",
   "metadata": {},
   "source": [
    "Aufgabe 1\n",
    "\n",
    "Datenbezug über API-Schnittstelle von Kaggle\n"
   ]
  },
  {
   "cell_type": "code",
   "execution_count": null,
   "id": "8865e13d",
   "metadata": {},
   "outputs": [],
   "source": []
  }
 ],
 "metadata": {
  "kernelspec": {
   "display_name": "Python 3",
   "language": "python",
   "name": "python3"
  },
  "language_info": {
   "codemirror_mode": {
    "name": "ipython",
    "version": 3
   },
   "file_extension": ".py",
   "mimetype": "text/x-python",
   "name": "python",
   "nbconvert_exporter": "python",
   "pygments_lexer": "ipython3",
   "version": "3.8.8"
  }
 },
 "nbformat": 4,
 "nbformat_minor": 5
}
