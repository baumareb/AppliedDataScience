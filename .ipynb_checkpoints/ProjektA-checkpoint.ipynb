{
 "cells": [
  {
   "cell_type": "markdown",
   "id": "dff4ba4d",
   "metadata": {},
   "source": [
    "# Applied Data Science\n",
    "\n",
    "## Projekt Gruppe 6 \n",
    "\n",
    "Gruppenmitglieder: Reto Alexander Nüesch Erismann, Michelle Daniela Wehrli, Rebecca Sarah Baumann\n"
   ]
  },
  {
   "cell_type": "markdown",
   "id": "ab12a19a",
   "metadata": {},
   "source": [
    "Aufgabe 1\n",
    "\n",
    "Datenbezug über API-Schnittstelle von Kaggle\n"
   ]
  },
  {
   "cell_type": "code",
   "execution_count": 2,
   "id": "8865e13d",
   "metadata": {},
   "outputs": [
    {
     "name": "stdout",
     "output_type": "stream",
     "text": [
      "Collecting kaggle\n",
      "  Downloading kaggle-1.5.12.tar.gz (58 kB)\n",
      "Requirement already satisfied: six>=1.10 in c:\\users\\user\\.conda\\envs\\ads-env\\lib\\site-packages (from kaggle) (1.16.0)\n",
      "Requirement already satisfied: certifi in c:\\users\\user\\.conda\\envs\\ads-env\\lib\\site-packages (from kaggle) (2021.10.8)\n",
      "Requirement already satisfied: python-dateutil in c:\\users\\user\\.conda\\envs\\ads-env\\lib\\site-packages (from kaggle) (2.8.2)\n",
      "Requirement already satisfied: requests in c:\\users\\user\\.conda\\envs\\ads-env\\lib\\site-packages (from kaggle) (2.27.1)\n",
      "Collecting tqdm\n",
      "  Downloading tqdm-4.64.0-py2.py3-none-any.whl (78 kB)\n",
      "Collecting python-slugify\n",
      "  Downloading python_slugify-6.1.1-py2.py3-none-any.whl (9.1 kB)\n",
      "Requirement already satisfied: urllib3 in c:\\users\\user\\.conda\\envs\\ads-env\\lib\\site-packages (from kaggle) (1.26.8)\n",
      "Collecting text-unidecode>=1.3\n",
      "  Downloading text_unidecode-1.3-py2.py3-none-any.whl (78 kB)\n",
      "Requirement already satisfied: charset-normalizer~=2.0.0 in c:\\users\\user\\.conda\\envs\\ads-env\\lib\\site-packages (from requests->kaggle) (2.0.12)\n",
      "Requirement already satisfied: idna<4,>=2.5 in c:\\users\\user\\.conda\\envs\\ads-env\\lib\\site-packages (from requests->kaggle) (3.3)\n",
      "Requirement already satisfied: colorama in c:\\users\\user\\.conda\\envs\\ads-env\\lib\\site-packages (from tqdm->kaggle) (0.4.4)\n",
      "Building wheels for collected packages: kaggle\n",
      "  Building wheel for kaggle (setup.py): started\n",
      "  Building wheel for kaggle (setup.py): finished with status 'done'\n",
      "  Created wheel for kaggle: filename=kaggle-1.5.12-py3-none-any.whl size=73051 sha256=e8b00f85a87dbc8a3b0eab495c62da38e15ad399220ea550cf0ecfe0c970f695\n",
      "  Stored in directory: c:\\users\\user\\appdata\\local\\pip\\cache\\wheels\\ac\\b2\\c3\\fa4706d469b5879105991d1c8be9a3c2ef329ba9fe2ce5085e\n",
      "Successfully built kaggle\n",
      "Installing collected packages: text-unidecode, tqdm, python-slugify, kaggle\n",
      "Successfully installed kaggle-1.5.12 python-slugify-6.1.1 text-unidecode-1.3 tqdm-4.64.0\n"
     ]
    }
   ],
   "source": [
    "!pip install kaggle"
   ]
  },
  {
   "cell_type": "markdown",
   "id": "645599d1",
   "metadata": {},
   "source": [
    "!pip install opendatasets"
   ]
  },
  {
   "cell_type": "markdown",
   "id": "c463d0ed",
   "metadata": {},
   "source": [
    "We manually downloaded the kaeggle-credentials via the User account and saved the kaggle.json in C:\\Users\\\"user\"\\.kaggle."
   ]
  },
  {
   "cell_type": "code",
   "execution_count": 7,
   "id": "7664e796",
   "metadata": {},
   "outputs": [
    {
     "name": "stdout",
     "output_type": "stream",
     "text": [
      "Please provide your Kaggle credentials to download this dataset. Learn more: http://bit.ly/kaggle-creds\n",
      "Your Kaggle username: reto77\n",
      "Your Kaggle Key: ········\n",
      "Downloading fruit-recognition.zip to .\\fruit-recognition\n"
     ]
    },
    {
     "name": "stderr",
     "output_type": "stream",
     "text": [
      "100%|██████████| 102M/102M [00:01<00:00, 55.0MB/s] \n"
     ]
    },
    {
     "name": "stdout",
     "output_type": "stream",
     "text": [
      "\n"
     ]
    }
   ],
   "source": [
    "from kaggle.api.kaggle_api_extended import KaggleApi\n",
    "api = KaggleApi ()\n",
    "api.authenticate ()\n",
    "\n",
    "import opendatasets as od\n",
    "od.download(\"https://www.kaggle.com/datasets/sshikamaru/fruit-recognition\")"
   ]
  }
 ],
 "metadata": {
  "kernelspec": {
   "display_name": "Python 3 (ipykernel)",
   "language": "python",
   "name": "python3"
  },
  "language_info": {
   "codemirror_mode": {
    "name": "ipython",
    "version": 3
   },
   "file_extension": ".py",
   "mimetype": "text/x-python",
   "name": "python",
   "nbconvert_exporter": "python",
   "pygments_lexer": "ipython3",
   "version": "3.9.7"
  }
 },
 "nbformat": 4,
 "nbformat_minor": 5
}
