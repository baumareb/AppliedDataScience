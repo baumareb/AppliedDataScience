{
 "cells": [
  {
   "cell_type": "markdown",
   "id": "401664c1",
   "metadata": {},
   "source": [
    "Applied Data Science\n",
    "\n",
    "Projekt Gruppe 6 \n",
    "\n",
    "Gruppenmitglieder: Reto Alexander Nüesch Erismann, Michelle Daniela Wehrli, Rebecca Sarah Baumann\n"
   ]
  },
  {
   "cell_type": "markdown",
   "id": "38708725",
   "metadata": {},
   "source": [
    "Aufgabe 1\n",
    "\n",
    "Datenbezug über API-Schnittstelle von Kaggle\n"
   ]
  },
  {
   "cell_type": "code",
   "execution_count": null,
   "id": "38d902fb",
   "metadata": {},
   "outputs": [],
   "source": []
  }
 ],
 "metadata": {
  "kernelspec": {
   "display_name": "Python 3",
   "language": "python",
   "name": "python3"
  },
  "language_info": {
   "codemirror_mode": {
    "name": "ipython",
    "version": 3
   },
   "file_extension": ".py",
   "mimetype": "text/x-python",
   "name": "python",
   "nbconvert_exporter": "python",
   "pygments_lexer": "ipython3",
   "version": "3.8.8"
  }
 },
 "nbformat": 4,
 "nbformat_minor": 5
}
